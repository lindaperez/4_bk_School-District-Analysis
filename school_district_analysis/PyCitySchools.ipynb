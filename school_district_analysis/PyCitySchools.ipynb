{
 "cells": [
  {
   "cell_type": "code",
   "execution_count": 10,
   "id": "6ba74b99",
   "metadata": {},
   "outputs": [],
   "source": [
    "import pandas as pd\n",
    "import os"
   ]
  },
  {
   "cell_type": "code",
   "execution_count": 11,
   "id": "43287a8b",
   "metadata": {},
   "outputs": [],
   "source": [
    "# Files to load\n",
    "school_path_load = os.path.join(\"Resources\",\"schools_complete.csv\")\n",
    "student_path_load = (\"Resources\",\"students_complete.csv\")\n"
   ]
  },
  {
   "cell_type": "code",
   "execution_count": 12,
   "id": "71f78296",
   "metadata": {},
   "outputs": [],
   "source": [
    "school_data_df = pd.read_csv(school_path_load)"
   ]
  },
  {
   "cell_type": "code",
   "execution_count": null,
   "id": "8aa7c3b5",
   "metadata": {},
   "outputs": [],
   "source": []
  }
 ],
 "metadata": {
  "kernelspec": {
   "display_name": "PythonData",
   "language": "python",
   "name": "pythondata"
  },
  "language_info": {
   "codemirror_mode": {
    "name": "ipython",
    "version": 3
   },
   "file_extension": ".py",
   "mimetype": "text/x-python",
   "name": "python",
   "nbconvert_exporter": "python",
   "pygments_lexer": "ipython3",
   "version": "3.7.11"
  }
 },
 "nbformat": 4,
 "nbformat_minor": 5
}
