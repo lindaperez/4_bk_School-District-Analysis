{
 "cells": [
  {
   "cell_type": "code",
   "execution_count": 2,
   "id": "5575520c",
   "metadata": {},
   "outputs": [],
   "source": [
    "###Portland Crime\n",
    "\n",
    "#Instructions\n",
    "\n",
    "\n",
    "#Read in the csv using Pandas and print out the DataFrame that is returned.\n",
    "\n",
    "\n",
    "#Get a count of rows within the DataFrame in order to determine if there are any null values.\n",
    "\n",
    "\n",
    "#Drop the rows which contain null values.\n",
    "\n",
    "\n",
    "#Search through the \"Offense Type\" column and \"replace\" any similar values with one consistent value."
   ]
  },
  {
   "cell_type": "code",
   "execution_count": 3,
   "id": "a59feea7",
   "metadata": {},
   "outputs": [],
   "source": [
    " # Import Dependencies\n",
    "import pandas as pd"
   ]
  },
  {
   "cell_type": "code",
   "execution_count": null,
   "id": "03ad0144",
   "metadata": {},
   "outputs": [],
   "source": [
    "# Reference the file where the CSV is located\n",
    "\n",
    "# Import the data into a Pandas DataFrame"
   ]
  }
 ],
 "metadata": {
  "kernelspec": {
   "display_name": "PythonData",
   "language": "python",
   "name": "pythondata"
  },
  "language_info": {
   "codemirror_mode": {
    "name": "ipython",
    "version": 3
   },
   "file_extension": ".py",
   "mimetype": "text/x-python",
   "name": "python",
   "nbconvert_exporter": "python",
   "pygments_lexer": "ipython3",
   "version": "3.7.11"
  }
 },
 "nbformat": 4,
 "nbformat_minor": 5
}
